{
 "cells": [
  {
   "cell_type": "markdown",
   "id": "4f8c9592",
   "metadata": {},
   "source": [
    "# Основные термины\n",
    "\n",
    "**Ген** вектор значений индивидуума, обучаемый алгоритмом\n",
    "\n",
    "**Популяция** - коллекция генов\n",
    "\n",
    "**Функция приспособленности** - или целевая функция. Функция, которую мы оптимизируем. Индивидуумы, для которых ф-ия дает наилучшую оценку будут отобраны генетическим алгоритмом."
   ]
  },
  {
   "cell_type": "markdown",
   "id": "03c78589",
   "metadata": {},
   "source": [
    "## Класс creator\n",
    "\n",
    "Метафабрика. позволяющая расширять существующие классы. Используется обычно для создания классов Fitness и Individual"
   ]
  },
  {
   "cell_type": "code",
   "execution_count": 29,
   "id": "a4b4547e",
   "metadata": {},
   "outputs": [],
   "source": [
    "from deap import creator, base, tools, algorithms"
   ]
  },
  {
   "cell_type": "code",
   "execution_count": 1,
   "id": "7a1664ac",
   "metadata": {},
   "outputs": [],
   "source": [
    "class Employee:\n",
    "    pass"
   ]
  },
  {
   "cell_type": "code",
   "execution_count": 10,
   "id": "d6bdea06",
   "metadata": {},
   "outputs": [
    {
     "name": "stderr",
     "output_type": "stream",
     "text": [
      "/home/konstantin/_code_/Hands-On-Genetic-Algorithms-with-Python/venv/lib/python3.8/site-packages/deap/creator.py:138: RuntimeWarning: A class named 'Developer' has already been created and it will be overwritten. Consider deleting previous creation of that class or rename it.\n",
      "  warnings.warn(\"A class named '{0}' has already been created and it \"\n"
     ]
    }
   ],
   "source": [
    "creator.create(\"Developer\", Employee, position=\"Developer\", programmingLanguages=set)"
   ]
  },
  {
   "cell_type": "code",
   "execution_count": 7,
   "id": "cf1bdc1a",
   "metadata": {},
   "outputs": [
    {
     "name": "stdout",
     "output_type": "stream",
     "text": [
      "Help on class Developer in module deap.creator:\n",
      "\n",
      "class Developer(__main__.Employee)\n",
      " |  Developer(*args, **kargs)\n",
      " |  \n",
      " |  Method resolution order:\n",
      " |      Developer\n",
      " |      __main__.Employee\n",
      " |      builtins.object\n",
      " |  \n",
      " |  Methods defined here:\n",
      " |  \n",
      " |  __init__ = initType(self, *args, **kargs)\n",
      " |      Replace the __init__ function of the new type, in order to\n",
      " |      add attributes that were defined with **kargs to the instance.\n",
      " |  \n",
      " |  ----------------------------------------------------------------------\n",
      " |  Data and other attributes defined here:\n",
      " |  \n",
      " |  position = 'Developer'\n",
      " |  \n",
      " |  ----------------------------------------------------------------------\n",
      " |  Data descriptors inherited from __main__.Employee:\n",
      " |  \n",
      " |  __dict__\n",
      " |      dictionary for instance variables (if defined)\n",
      " |  \n",
      " |  __weakref__\n",
      " |      list of weak references to the object (if defined)\n",
      "\n"
     ]
    }
   ],
   "source": [
    "help(creator.Developer)"
   ]
  },
  {
   "cell_type": "markdown",
   "id": "a525d140",
   "metadata": {},
   "source": [
    "## Fitness\n",
    "\n",
    "В этом классе инкапсулированы значения приспособленности. Приспособленность в deap можно определять по нескольким компонентам (целями). у каждой из которых есть вес. Комбинация весов определяет поведение или стратегию приспособления в конкретной задаче\n",
    "\n",
    "base.Fitness - абстрактный класс. содержащий кортеж weights. Чтобы определить стратегию, кортежу наджо присвоить значения."
   ]
  },
  {
   "cell_type": "code",
   "execution_count": 12,
   "id": "ad11a0a8",
   "metadata": {},
   "outputs": [],
   "source": [
    "creator.create('FitnessMax', base.Fitness, weights=(1.0,))"
   ]
  },
  {
   "cell_type": "code",
   "execution_count": 14,
   "id": "40907f0e",
   "metadata": {},
   "outputs": [
    {
     "name": "stdout",
     "output_type": "stream",
     "text": [
      "Help on class FitnessMax in module deap.creator:\n",
      "\n",
      "class FitnessMax(deap.base.Fitness)\n",
      " |  FitnessMax(*args, **kargs)\n",
      " |  \n",
      " |  The fitness is a measure of quality of a solution. If *values* are\n",
      " |  provided as a tuple, the fitness is initialized using those values,\n",
      " |  otherwise it is empty (or invalid).\n",
      " |  \n",
      " |  :param values: The initial values of the fitness as a tuple, optional.\n",
      " |  \n",
      " |  Fitnesses may be compared using the ``>``, ``<``, ``>=``, ``<=``, ``==``,\n",
      " |  ``!=``. The comparison of those operators is made lexicographically.\n",
      " |  Maximization and minimization are taken care off by a multiplication\n",
      " |  between the :attr:`weights` and the fitness :attr:`values`. The comparison\n",
      " |  can be made between fitnesses of different size, if the fitnesses are\n",
      " |  equal until the extra elements, the longer fitness will be superior to the\n",
      " |  shorter.\n",
      " |  \n",
      " |  Different types of fitnesses are created in the :ref:`creating-types`\n",
      " |  tutorial.\n",
      " |  \n",
      " |  .. note::\n",
      " |     When comparing fitness values that are **minimized**, ``a > b`` will\n",
      " |     return :data:`True` if *a* is **smaller** than *b*.\n",
      " |  \n",
      " |  Method resolution order:\n",
      " |      FitnessMax\n",
      " |      deap.base.Fitness\n",
      " |      builtins.object\n",
      " |  \n",
      " |  Methods defined here:\n",
      " |  \n",
      " |  __init__ = initType(self, *args, **kargs)\n",
      " |      Replace the __init__ function of the new type, in order to\n",
      " |      add attributes that were defined with **kargs to the instance.\n",
      " |  \n",
      " |  ----------------------------------------------------------------------\n",
      " |  Data and other attributes defined here:\n",
      " |  \n",
      " |  weights = (1.0,)\n",
      " |  \n",
      " |  ----------------------------------------------------------------------\n",
      " |  Methods inherited from deap.base.Fitness:\n",
      " |  \n",
      " |  __deepcopy__(self, memo)\n",
      " |      Replace the basic deepcopy function with a faster one.\n",
      " |      \n",
      " |      It assumes that the elements in the :attr:`values` tuple are\n",
      " |      immutable and the fitness does not contain any other object\n",
      " |      than :attr:`values` and :attr:`weights`.\n",
      " |  \n",
      " |  __eq__(self, other)\n",
      " |      Return self==value.\n",
      " |  \n",
      " |  __ge__(self, other)\n",
      " |      Return self>=value.\n",
      " |  \n",
      " |  __gt__(self, other)\n",
      " |      Return self>value.\n",
      " |  \n",
      " |  __hash__(self)\n",
      " |      Return hash(self).\n",
      " |  \n",
      " |  __le__(self, other)\n",
      " |      Return self<=value.\n",
      " |  \n",
      " |  __lt__(self, other)\n",
      " |      Return self<value.\n",
      " |  \n",
      " |  __ne__(self, other)\n",
      " |      Return self!=value.\n",
      " |  \n",
      " |  __repr__(self)\n",
      " |      Return the Python code to build a copy of the object.\n",
      " |  \n",
      " |  __str__(self)\n",
      " |      Return the values of the Fitness object.\n",
      " |  \n",
      " |  delValues(self)\n",
      " |  \n",
      " |  dominates(self, other, obj=slice(None, None, None))\n",
      " |      Return true if each objective of *self* is not strictly worse than\n",
      " |      the corresponding objective of *other* and at least one objective is\n",
      " |      strictly better.\n",
      " |      \n",
      " |      :param obj: Slice indicating on which objectives the domination is\n",
      " |                  tested. The default value is `slice(None)`, representing\n",
      " |                  every objectives.\n",
      " |  \n",
      " |  getValues(self)\n",
      " |  \n",
      " |  setValues(self, values)\n",
      " |  \n",
      " |  ----------------------------------------------------------------------\n",
      " |  Readonly properties inherited from deap.base.Fitness:\n",
      " |  \n",
      " |  valid\n",
      " |      Assess if a fitness is valid or not.\n",
      " |  \n",
      " |  ----------------------------------------------------------------------\n",
      " |  Data descriptors inherited from deap.base.Fitness:\n",
      " |  \n",
      " |  __dict__\n",
      " |      dictionary for instance variables (if defined)\n",
      " |  \n",
      " |  __weakref__\n",
      " |      list of weak references to the object (if defined)\n",
      " |  \n",
      " |  values\n",
      " |      Fitness values. Use directly ``individual.fitness.values = values`` in order to set the fitness and ``del individual.fitness.values`` in order to clear (invalidate) the fitness. The (unweighted) fitness can be directly accessed via ``individual.fitness.values``.\n",
      " |  \n",
      " |  ----------------------------------------------------------------------\n",
      " |  Data and other attributes inherited from deap.base.Fitness:\n",
      " |  \n",
      " |  wvalues = ()\n",
      "\n"
     ]
    }
   ],
   "source": [
    "help(creator.FitnessMax)"
   ]
  },
  {
   "cell_type": "code",
   "execution_count": 15,
   "id": "fab819a3",
   "metadata": {},
   "outputs": [
    {
     "data": {
      "text/plain": [
       "(1.0,)"
      ]
     },
     "execution_count": 15,
     "metadata": {},
     "output_type": "execute_result"
    }
   ],
   "source": [
    "creator.FitnessMax.weights"
   ]
  },
  {
   "cell_type": "markdown",
   "id": "3ee128d2",
   "metadata": {},
   "source": [
    "В данном случае стратегия FitnessMax - максимизировать приспособленность индивидумов с единственной целью. Минимизация будет выглядеть так:"
   ]
  },
  {
   "cell_type": "code",
   "execution_count": 16,
   "id": "adbb7484",
   "metadata": {},
   "outputs": [],
   "source": [
    "creator.create('FitnessMin', base.Fitness, weights=(-1.0,))"
   ]
  },
  {
   "cell_type": "markdown",
   "id": "5a34cf7d",
   "metadata": {},
   "source": [
    "Множество целей. Первые две компоненты максимизируются, третья минимизируется. Важность компонент следует слева направо"
   ]
  },
  {
   "cell_type": "code",
   "execution_count": 17,
   "id": "04dc042c",
   "metadata": {},
   "outputs": [],
   "source": [
    "creator.create('FitnessCompound', base.Fitness, weights=(1.0, 0.2, -0.5))"
   ]
  },
  {
   "cell_type": "markdown",
   "id": "ea658755",
   "metadata": {},
   "source": [
    "**Кортеж values** хранит сами значения приспособленности. Эти значения дает отдельно определяемая ф-ия, которую обычно называют evaluate(). Кортеж содержит по одному значению для каждой ф-ии (цели).\n",
    "\n",
    "**Третий кортеж wvalues** содержит взвешенные значени, полученные перемножением creator.create('FitnessMin', base.Fitness, weights=(-1.0,))values и weights. Это используется для сравнения индивидуумов.\n",
    "\n",
    "wvalues можно сравнивать лексикографически с помощью операторов ``>``, ``<``, ``>=``, ``<=``, ``==``, ``!=``"
   ]
  },
  {
   "cell_type": "markdown",
   "id": "6c529ed9",
   "metadata": {},
   "source": [
    "## Individual\n",
    "\n",
    "С помощью этого класса определяются индивидуумы, образующие популяцию. В данном случае все гены индивидумов будут иметь тип лист, а класс каждого индивидума будет содержать экземляр FitnessMax"
   ]
  },
  {
   "cell_type": "code",
   "execution_count": 18,
   "id": "bf211b6a",
   "metadata": {},
   "outputs": [],
   "source": [
    "creator.create('Individual', list, fitness=creator.FitnessMax)"
   ]
  },
  {
   "cell_type": "code",
   "execution_count": 19,
   "id": "10bc5cbb",
   "metadata": {},
   "outputs": [
    {
     "name": "stdout",
     "output_type": "stream",
     "text": [
      "Help on class Individual in module deap.creator:\n",
      "\n",
      "class Individual(builtins.list)\n",
      " |  Individual(*args, **kargs)\n",
      " |  \n",
      " |  Built-in mutable sequence.\n",
      " |  \n",
      " |  If no argument is given, the constructor creates a new empty list.\n",
      " |  The argument must be an iterable if specified.\n",
      " |  \n",
      " |  Method resolution order:\n",
      " |      Individual\n",
      " |      builtins.list\n",
      " |      builtins.object\n",
      " |  \n",
      " |  Methods defined here:\n",
      " |  \n",
      " |  __init__ = initType(self, *args, **kargs)\n",
      " |      Replace the __init__ function of the new type, in order to\n",
      " |      add attributes that were defined with **kargs to the instance.\n",
      " |  \n",
      " |  ----------------------------------------------------------------------\n",
      " |  Data descriptors defined here:\n",
      " |  \n",
      " |  __dict__\n",
      " |      dictionary for instance variables (if defined)\n",
      " |  \n",
      " |  __weakref__\n",
      " |      list of weak references to the object (if defined)\n",
      " |  \n",
      " |  ----------------------------------------------------------------------\n",
      " |  Methods inherited from builtins.list:\n",
      " |  \n",
      " |  __add__(self, value, /)\n",
      " |      Return self+value.\n",
      " |  \n",
      " |  __contains__(self, key, /)\n",
      " |      Return key in self.\n",
      " |  \n",
      " |  __delitem__(self, key, /)\n",
      " |      Delete self[key].\n",
      " |  \n",
      " |  __eq__(self, value, /)\n",
      " |      Return self==value.\n",
      " |  \n",
      " |  __ge__(self, value, /)\n",
      " |      Return self>=value.\n",
      " |  \n",
      " |  __getattribute__(self, name, /)\n",
      " |      Return getattr(self, name).\n",
      " |  \n",
      " |  __getitem__(...)\n",
      " |      x.__getitem__(y) <==> x[y]\n",
      " |  \n",
      " |  __gt__(self, value, /)\n",
      " |      Return self>value.\n",
      " |  \n",
      " |  __iadd__(self, value, /)\n",
      " |      Implement self+=value.\n",
      " |  \n",
      " |  __imul__(self, value, /)\n",
      " |      Implement self*=value.\n",
      " |  \n",
      " |  __iter__(self, /)\n",
      " |      Implement iter(self).\n",
      " |  \n",
      " |  __le__(self, value, /)\n",
      " |      Return self<=value.\n",
      " |  \n",
      " |  __len__(self, /)\n",
      " |      Return len(self).\n",
      " |  \n",
      " |  __lt__(self, value, /)\n",
      " |      Return self<value.\n",
      " |  \n",
      " |  __mul__(self, value, /)\n",
      " |      Return self*value.\n",
      " |  \n",
      " |  __ne__(self, value, /)\n",
      " |      Return self!=value.\n",
      " |  \n",
      " |  __repr__(self, /)\n",
      " |      Return repr(self).\n",
      " |  \n",
      " |  __reversed__(self, /)\n",
      " |      Return a reverse iterator over the list.\n",
      " |  \n",
      " |  __rmul__(self, value, /)\n",
      " |      Return value*self.\n",
      " |  \n",
      " |  __setitem__(self, key, value, /)\n",
      " |      Set self[key] to value.\n",
      " |  \n",
      " |  __sizeof__(self, /)\n",
      " |      Return the size of the list in memory, in bytes.\n",
      " |  \n",
      " |  append(self, object, /)\n",
      " |      Append object to the end of the list.\n",
      " |  \n",
      " |  clear(self, /)\n",
      " |      Remove all items from list.\n",
      " |  \n",
      " |  copy(self, /)\n",
      " |      Return a shallow copy of the list.\n",
      " |  \n",
      " |  count(self, value, /)\n",
      " |      Return number of occurrences of value.\n",
      " |  \n",
      " |  extend(self, iterable, /)\n",
      " |      Extend list by appending elements from the iterable.\n",
      " |  \n",
      " |  index(self, value, start=0, stop=9223372036854775807, /)\n",
      " |      Return first index of value.\n",
      " |      \n",
      " |      Raises ValueError if the value is not present.\n",
      " |  \n",
      " |  insert(self, index, object, /)\n",
      " |      Insert object before index.\n",
      " |  \n",
      " |  pop(self, index=-1, /)\n",
      " |      Remove and return item at index (default last).\n",
      " |      \n",
      " |      Raises IndexError if list is empty or index is out of range.\n",
      " |  \n",
      " |  remove(self, value, /)\n",
      " |      Remove first occurrence of value.\n",
      " |      \n",
      " |      Raises ValueError if the value is not present.\n",
      " |  \n",
      " |  reverse(self, /)\n",
      " |      Reverse *IN PLACE*.\n",
      " |  \n",
      " |  sort(self, /, *, key=None, reverse=False)\n",
      " |      Sort the list in ascending order and return None.\n",
      " |      \n",
      " |      The sort is in-place (i.e. the list itself is modified) and stable (i.e. the\n",
      " |      order of two equal elements is maintained).\n",
      " |      \n",
      " |      If a key function is given, apply it once to each list item and sort them,\n",
      " |      ascending or descending, according to their function values.\n",
      " |      \n",
      " |      The reverse flag can be set to sort in descending order.\n",
      " |  \n",
      " |  ----------------------------------------------------------------------\n",
      " |  Static methods inherited from builtins.list:\n",
      " |  \n",
      " |  __new__(*args, **kwargs) from builtins.type\n",
      " |      Create and return a new object.  See help(type) for accurate signature.\n",
      " |  \n",
      " |  ----------------------------------------------------------------------\n",
      " |  Data and other attributes inherited from builtins.list:\n",
      " |  \n",
      " |  __hash__ = None\n",
      "\n"
     ]
    }
   ],
   "source": [
    "help(creator.Individual)"
   ]
  },
  {
   "cell_type": "markdown",
   "id": "d1f6024f",
   "metadata": {},
   "source": [
    "## Toolbox\n",
    "\n",
    "Это контейнер для функций и операторов и позволяет создавать новые операторы путем назначения псевдонимов\n",
    "\n",
    "Первым аргументом реигстрируем имя ф-ии. Вторым передаем ей выполняемую ф-ию. Остальные рагументы - необязательны (аргументы выполняемой ф-ии)"
   ]
  },
  {
   "cell_type": "code",
   "execution_count": 21,
   "id": "107b6309",
   "metadata": {},
   "outputs": [
    {
     "data": {
      "text/plain": [
       "15"
      ]
     },
     "execution_count": 21,
     "metadata": {},
     "output_type": "execute_result"
    }
   ],
   "source": [
    "def sum_of_two(a, b):\n",
    "    return a + b\n",
    "\n",
    "toolbox = base.Toolbox()\n",
    "toolbox.register('increment_by_five', sum_of_two, b=5)\n",
    "toolbox.increment_by_five(10)"
   ]
  },
  {
   "cell_type": "markdown",
   "id": "2e586074",
   "metadata": {},
   "source": [
    "## Создание генетических операторов\n",
    "\n",
    "модуль tools содержит полезные функции для осуществления операций отбора, включая скрещивание и мутации, а так-же утилиты для инициализации. Поэтому Toolbox используется в основном для этого\n",
    "\n",
    "В данном случае:\n",
    "\n",
    "- создан оператор tools.select использующий турнирный отбор с аргументом 3 (размер тиурнира)\n",
    "- создан оператор mate как псевдоним ф-ии cxTwoPoint(), выполняющей двухточечное скрещивание\n",
    "- создан оператор mutate c операцией инвертирования бита и вероятностью 0.02\n",
    "\n",
    "Функции отбора хранятся в selection.py. Функции скрещивания в crossower.py. Функции мутации в mutation.py"
   ]
  },
  {
   "cell_type": "code",
   "execution_count": 23,
   "id": "90d2a594",
   "metadata": {},
   "outputs": [],
   "source": [
    "toolbox.register('select', tools.selTournament, tournize=3)\n",
    "toolbox.register('mate', tools.cxESTwoPoint)\n",
    "toolbox.register('mutate', tools.mutFlipBit, indpb=0.02)"
   ]
  },
  {
   "cell_type": "markdown",
   "id": "714e59c8",
   "metadata": {},
   "source": [
    "## Создание популяции\n",
    "\n",
    "Ф-л init.py содержит несколько ф-ий полезных для создания и иницализации популяции.\n",
    "\n",
    "Ф-я initRepeat() принимает три аргумента:\n",
    "\n",
    "- тип контейнера результирующих объектов\n",
    "- ф-ия. генерирующая объекты, которые помещаются в контейнер\n",
    "- сколько объектов генерировать"
   ]
  },
  {
   "cell_type": "code",
   "execution_count": 25,
   "id": "4161bebd",
   "metadata": {},
   "outputs": [
    {
     "data": {
      "text/plain": [
       "[0,\n",
       " 1,\n",
       " 1,\n",
       " 1,\n",
       " 0,\n",
       " 0,\n",
       " 1,\n",
       " 1,\n",
       " 0,\n",
       " 0,\n",
       " 1,\n",
       " 0,\n",
       " 1,\n",
       " 0,\n",
       " 0,\n",
       " 0,\n",
       " 1,\n",
       " 0,\n",
       " 1,\n",
       " 1,\n",
       " 0,\n",
       " 1,\n",
       " 1,\n",
       " 0,\n",
       " 1,\n",
       " 0,\n",
       " 1,\n",
       " 0,\n",
       " 1,\n",
       " 1]"
      ]
     },
     "execution_count": 25,
     "metadata": {},
     "output_type": "execute_result"
    }
   ],
   "source": [
    "import random\n",
    "toolbox.register('zero_or_one', random.randint, 0, 1)\n",
    "rnd = tools.initRepeat(list, toolbox.zero_or_one, 30)\n",
    "rnd"
   ]
  },
  {
   "cell_type": "markdown",
   "id": "6d0cdc8a",
   "metadata": {},
   "source": [
    "## Вычисление приспособленности\n",
    "\n",
    "значение приспособленности обычно возвращаются отдельно определенной ф-ией, которая регистрируется в toolbox как evaluate (обычно)"
   ]
  },
  {
   "cell_type": "code",
   "execution_count": 26,
   "id": "0add0ade",
   "metadata": {},
   "outputs": [],
   "source": [
    "def some_calc(nums):\n",
    "    return nums\n",
    "\n",
    "toolbox.register('evaluate', some_calc)"
   ]
  },
  {
   "cell_type": "markdown",
   "id": "3a9023ea",
   "metadata": {},
   "source": [
    "## Statistics\n",
    "\n",
    "класс tools.Statistics позволяет собират ьстатистику. задавая ф-ию, применяемую к данным, для которых вычисляется статистика. Например для случая, когда популяция является данными, функция извлекающая приспособленность каждого индивидуума и зарегистрированные методы"
   ]
  },
  {
   "cell_type": "code",
   "execution_count": 28,
   "id": "95216d0f",
   "metadata": {},
   "outputs": [],
   "source": [
    "import numpy as np\n",
    "stats = tools.Statistics(lambda ind: inf.fitness.values)\n",
    "stats.register(\"max\", np.max)\n",
    "stats.register(\"avg\", np.mean)"
   ]
  },
  {
   "cell_type": "markdown",
   "id": "8efc4a5b",
   "metadata": {},
   "source": [
    "## Встроенные алгоритмы\n",
    "\n",
    "В DEAP несколько встроенных эволюционных алгоритмов, реализующих пайплайн обучения. Пример примененеия:\n",
    "\n",
    "```python\n",
    "population, logbook = algorithms.eaSimple(\n",
    "    population, \n",
    "    toolbox,\n",
    "    cxpb=CONST1,\n",
    "    mutpb=CONST2,\n",
    "    ngen=CONST3,\n",
    "    stats=stats,\n",
    "    verbose=True,\n",
    ")\n",
    "```"
   ]
  },
  {
   "cell_type": "markdown",
   "id": "4eb52b63",
   "metadata": {},
   "source": [
    "## logbook\n",
    "\n",
    "логбук - собранная статистика, которую возвращает алгоритм. Ее можно извлечь методом select() (в данном случае как раз и используются зарегистрирвоанные нами методы сбора статы)\n",
    "\n",
    "```python\n",
    "max_, mean_ = logbook.select('max', 'avg`)\n",
    "```"
   ]
  },
  {
   "cell_type": "markdown",
   "id": "9588f1e6",
   "metadata": {},
   "source": [
    "## Зал славы\n",
    "\n",
    "Класс HallOfFame модуля tools возвращает отранжированный список лучших индивидумов, даже если в процессе эволюции или отбора они были утрачены."
   ]
  }
 ],
 "metadata": {
  "kernelspec": {
   "display_name": "Python 3 (ipykernel)",
   "language": "python",
   "name": "python3"
  },
  "language_info": {
   "codemirror_mode": {
    "name": "ipython",
    "version": 3
   },
   "file_extension": ".py",
   "mimetype": "text/x-python",
   "name": "python",
   "nbconvert_exporter": "python",
   "pygments_lexer": "ipython3",
   "version": "3.8.6"
  },
  "nbTranslate": {
   "displayLangs": [
    "ru",
    "en"
   ],
   "hotkey": "alt-t",
   "langInMainMenu": true,
   "sourceLang": "en",
   "targetLang": "ru",
   "useGoogleTranslate": true
  }
 },
 "nbformat": 4,
 "nbformat_minor": 5
}
